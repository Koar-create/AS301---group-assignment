import xarray as xr
import pandas as pd
import numpy as np
import np.array as array
import os

# 注意，将tiange.nc文件放在当前文件夹

X = xr.open_dataset( os.getcwd() + os.sep + 'tiange.nc' )[ "w" ]
p, lon, lat = np.array( X['level'] ), np.array( X[ "longitude" ] ), np.array( X[ "latitude" ] )
file_path = os.getcwd() + os.sep + 'tiange.nc'
u, v, w = array(xr.open_dataset(file_path)["u"]), array(xr.open_dataset(file_path)["v"]), array(xr.open_dataset(file_path)["w"])
dx = dy = 0.25*111*10**3
q,l,m,n = u.shape
zeta0 = np.zeros((q,l,m-1,n-1))
for h in range( 0, q ):
    for i in range( 0, l ):
        for j in range( 0, m-1 ):
            for k in range( 0, n-1 ):
                zeta0[h,i,j,k] = (v[h,i,j+1,k]-v[h,i,j,k])/dx - (u[h,i,j,k+1]-u[h,i,j,k])/dy
# zeta0就是差分计算的相对涡度。显然，zeta0的经度和纬度长度都比原始数据的少一个。
